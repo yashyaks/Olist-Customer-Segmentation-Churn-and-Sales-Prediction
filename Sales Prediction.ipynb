{
 "cells": [
  {
   "cell_type": "code",
   "execution_count": 162,
   "id": "c1d5bee6",
   "metadata": {},
   "outputs": [],
   "source": [
    "import pandas as pd\n",
    "import numpy as np\n",
    "import seaborn as sns\n",
    "import matplotlib.pyplot as plt"
   ]
  },
  {
   "cell_type": "code",
   "execution_count": 163,
   "id": "91d2c6ed",
   "metadata": {},
   "outputs": [],
   "source": [
    "path = './data/'\n",
    "olist_customer = pd.read_csv(path + 'olist_customers_dataset.csv')\n",
    "olist_geolocation = pd.read_csv(path + 'olist_geolocation_dataset.csv')\n",
    "olist_order_items = pd.read_csv(path + 'olist_order_items_dataset.csv')\n",
    "olist_order_payments = pd.read_csv(path + 'olist_order_payments_dataset.csv')\n",
    "olist_order_reviews = pd.read_csv(path + 'olist_order_reviews_dataset.csv')\n",
    "olist_orders = pd.read_csv(path + 'olist_orders_dataset.csv')\n",
    "olist_products = pd.read_csv(path + 'olist_products_dataset.csv')\n",
    "olist_sellers = pd.read_csv(path + 'olist_sellers_dataset.csv')\n",
    "olist_translation = pd.read_csv(path + 'product_category_name_translation.csv')\n",
    "\n",
    "df = pd.read_csv(path+'merged_data.csv')"
   ]
  },
  {
   "cell_type": "code",
   "execution_count": 164,
   "id": "2c52d1f4",
   "metadata": {},
   "outputs": [],
   "source": [
    "def classify_cat(x):\n",
    "\n",
    "    if x in ['office_furniture', 'furniture_decor', 'furniture_living_room', 'kitchen_dining_laundry_garden_furniture', 'bed_bath_table', 'home_comfort', 'home_comfort_2', 'home_construction', 'garden_tools', 'furniture_bedroom', 'furniture_mattress_and_upholstery']:\n",
    "        return 'Furniture'\n",
    "    \n",
    "    elif x in ['auto', 'computers_accessories', 'musical_instruments', 'consoles_games', 'watches_gifts', 'air_conditioning', 'telephony', 'electronics', 'fixed_telephony', 'tablets_printing_image', 'computers', 'small_appliances_home_oven_and_coffee', 'small_appliances', 'audio', 'signaling_and_security', 'security_and_services']:\n",
    "        return 'Electronics'\n",
    "    \n",
    "    elif x in ['fashio_female_clothing', 'fashion_male_clothing', 'fashion_bags_accessories', 'fashion_shoes', 'fashion_sport', 'fashion_underwear_beach', 'fashion_childrens_clothes', 'baby', 'cool_stuff', ]:\n",
    "        return 'Fashion'\n",
    "    \n",
    "    elif x in ['housewares', 'home_confort', 'home_appliances', 'home_appliances_2', 'flowers', 'costruction_tools_garden', 'garden_tools', 'construction_tools_lights', 'costruction_tools_tools', 'luggage_accessories', 'la_cuisine', 'pet_shop', 'market_place']:\n",
    "        return 'Home & Garden'\n",
    "    \n",
    "    elif x in ['sports_leisure', 'toys', 'cds_dvds_musicals', 'music', 'dvds_blu_ray', 'cine_photo', 'party_supplies', 'christmas_supplies', 'arts_and_craftmanship', 'art']:\n",
    "        return 'Entertainment'\n",
    "    \n",
    "    elif x in ['health_beauty', 'perfumery', 'diapers_and_hygiene']:\n",
    "        return 'Beauty & Health'\n",
    "    \n",
    "    elif x in ['food_drink', 'drinks', 'food']:\n",
    "        return 'Food & Drinks'\n",
    "    \n",
    "    elif x in ['books_general_interest', 'books_technical', 'books_imported', 'stationery']:\n",
    "        return 'Books & Stationery'\n",
    "    \n",
    "    elif x in ['construction_tools_construction', 'construction_tools_safety', 'industry_commerce_and_business', 'agro_industry_and_commerce']:\n",
    "        return 'Industry & Construction'\n",
    "\n",
    "df['product_category'] = df.product_category_name_english.apply(classify_cat)"
   ]
  },
  {
   "cell_type": "code",
   "execution_count": 165,
   "id": "d9ca07a8",
   "metadata": {},
   "outputs": [],
   "source": [
    "df['order_purchase_timestamp'] = pd.to_datetime(df.order_purchase_timestamp)\n",
    "df['order_approved_at'] = pd.to_datetime(df.order_approved_at)\n",
    "df['order_delivered_carrier_date'] = pd.to_datetime(df.order_delivered_carrier_date)\n",
    "df['order_delivered_customer_date'] = pd.to_datetime(df.order_delivered_customer_date)\n",
    "df['order_estimated_delivery_date'] = pd.to_datetime(df.order_estimated_delivery_date)"
   ]
  },
  {
   "cell_type": "code",
   "execution_count": 166,
   "id": "ca81b973",
   "metadata": {},
   "outputs": [
    {
     "name": "stdout",
     "output_type": "stream",
     "text": [
      "<class 'pandas.core.frame.DataFrame'>\n",
      "RangeIndex: 115609 entries, 0 to 115608\n",
      "Data columns (total 40 columns):\n",
      " #   Column                         Non-Null Count   Dtype         \n",
      "---  ------                         --------------   -----         \n",
      " 0   Unnamed: 0                     115609 non-null  int64         \n",
      " 1   customer_id                    115609 non-null  object        \n",
      " 2   customer_unique_id             115609 non-null  object        \n",
      " 3   customer_zip_code_prefix       115609 non-null  int64         \n",
      " 4   customer_city                  115609 non-null  object        \n",
      " 5   customer_state                 115609 non-null  object        \n",
      " 6   order_id                       115609 non-null  object        \n",
      " 7   order_status                   115609 non-null  object        \n",
      " 8   order_purchase_timestamp       115609 non-null  datetime64[ns]\n",
      " 9   order_approved_at              115595 non-null  datetime64[ns]\n",
      " 10  order_delivered_carrier_date   114414 non-null  datetime64[ns]\n",
      " 11  order_delivered_customer_date  113209 non-null  datetime64[ns]\n",
      " 12  order_estimated_delivery_date  115609 non-null  datetime64[ns]\n",
      " 13  review_id                      115609 non-null  object        \n",
      " 14  review_score                   115609 non-null  int64         \n",
      " 15  review_creation_date           115609 non-null  object        \n",
      " 16  review_answer_timestamp        115609 non-null  object        \n",
      " 17  order_item_id                  115609 non-null  int64         \n",
      " 18  product_id                     115609 non-null  object        \n",
      " 19  seller_id                      115609 non-null  object        \n",
      " 20  shipping_limit_date            115609 non-null  object        \n",
      " 21  price                          115609 non-null  float64       \n",
      " 22  freight_value                  115609 non-null  float64       \n",
      " 23  product_category_name          115609 non-null  object        \n",
      " 24  product_name_length            115609 non-null  float64       \n",
      " 25  product_description_length     115609 non-null  float64       \n",
      " 26  product_photos_qty             115609 non-null  float64       \n",
      " 27  product_weight_g               115608 non-null  float64       \n",
      " 28  product_length_cm              115608 non-null  float64       \n",
      " 29  product_height_cm              115608 non-null  float64       \n",
      " 30  product_width_cm               115608 non-null  float64       \n",
      " 31  payment_sequential             115609 non-null  int64         \n",
      " 32  payment_type                   115609 non-null  object        \n",
      " 33  payment_installments           115609 non-null  int64         \n",
      " 34  payment_value                  115609 non-null  float64       \n",
      " 35  seller_zip_code_prefix         115609 non-null  int64         \n",
      " 36  seller_city                    115609 non-null  object        \n",
      " 37  seller_state                   115609 non-null  object        \n",
      " 38  product_category_name_english  115609 non-null  object        \n",
      " 39  product_category               115609 non-null  object        \n",
      "dtypes: datetime64[ns](5), float64(10), int64(7), object(18)\n",
      "memory usage: 35.3+ MB\n"
     ]
    }
   ],
   "source": [
    "df.info()"
   ]
  },
  {
   "cell_type": "code",
   "execution_count": 167,
   "id": "d466aad8",
   "metadata": {},
   "outputs": [],
   "source": [
    "dCat_TopOrders = df.groupby(df['product_id'])['order_id'].nunique().reset_index().sort_values('order_id', ascending = False)"
   ]
  },
  {
   "cell_type": "code",
   "execution_count": 168,
   "id": "4efa19a4",
   "metadata": {},
   "outputs": [
    {
     "data": {
      "text/html": [
       "<div>\n",
       "<style scoped>\n",
       "    .dataframe tbody tr th:only-of-type {\n",
       "        vertical-align: middle;\n",
       "    }\n",
       "\n",
       "    .dataframe tbody tr th {\n",
       "        vertical-align: top;\n",
       "    }\n",
       "\n",
       "    .dataframe thead th {\n",
       "        text-align: right;\n",
       "    }\n",
       "</style>\n",
       "<table border=\"1\" class=\"dataframe\">\n",
       "  <thead>\n",
       "    <tr style=\"text-align: right;\">\n",
       "      <th></th>\n",
       "      <th>product_id</th>\n",
       "      <th>order_id</th>\n",
       "    </tr>\n",
       "  </thead>\n",
       "  <tbody>\n",
       "    <tr>\n",
       "      <th>19287</th>\n",
       "      <td>99a4788cb24856965c36a24e339b6058</td>\n",
       "      <td>458</td>\n",
       "    </tr>\n",
       "    <tr>\n",
       "      <th>21607</th>\n",
       "      <td>aca2eb7d00ea1a7b8ebd4e68314663af</td>\n",
       "      <td>429</td>\n",
       "    </tr>\n",
       "    <tr>\n",
       "      <th>8402</th>\n",
       "      <td>422879e10f46682990de24d770e7f83d</td>\n",
       "      <td>351</td>\n",
       "    </tr>\n",
       "    <tr>\n",
       "      <th>26411</th>\n",
       "      <td>d1c427060a0f73f6b889a5c7c61f2ac4</td>\n",
       "      <td>320</td>\n",
       "    </tr>\n",
       "    <tr>\n",
       "      <th>7184</th>\n",
       "      <td>389d119b48cf3043d311335e499d9c6b</td>\n",
       "      <td>310</td>\n",
       "    </tr>\n",
       "    <tr>\n",
       "      <th>...</th>\n",
       "      <td>...</td>\n",
       "      <td>...</td>\n",
       "    </tr>\n",
       "    <tr>\n",
       "      <th>13384</th>\n",
       "      <td>69ff1e4ad10ccba4d0e1ffc0aa771380</td>\n",
       "      <td>1</td>\n",
       "    </tr>\n",
       "    <tr>\n",
       "      <th>13383</th>\n",
       "      <td>69fef0f440d7a4d03f5d883264132dc2</td>\n",
       "      <td>1</td>\n",
       "    </tr>\n",
       "    <tr>\n",
       "      <th>13382</th>\n",
       "      <td>69fb24f0cd077f460768e66b89c3565e</td>\n",
       "      <td>1</td>\n",
       "    </tr>\n",
       "    <tr>\n",
       "      <th>13381</th>\n",
       "      <td>69faf0d53eb73597d6cfd50175901a56</td>\n",
       "      <td>1</td>\n",
       "    </tr>\n",
       "    <tr>\n",
       "      <th>32170</th>\n",
       "      <td>fffe9eeff12fcbd74a2f2b007dde0c58</td>\n",
       "      <td>1</td>\n",
       "    </tr>\n",
       "  </tbody>\n",
       "</table>\n",
       "<p>32171 rows × 2 columns</p>\n",
       "</div>"
      ],
      "text/plain": [
       "                             product_id  order_id\n",
       "19287  99a4788cb24856965c36a24e339b6058       458\n",
       "21607  aca2eb7d00ea1a7b8ebd4e68314663af       429\n",
       "8402   422879e10f46682990de24d770e7f83d       351\n",
       "26411  d1c427060a0f73f6b889a5c7c61f2ac4       320\n",
       "7184   389d119b48cf3043d311335e499d9c6b       310\n",
       "...                                 ...       ...\n",
       "13384  69ff1e4ad10ccba4d0e1ffc0aa771380         1\n",
       "13383  69fef0f440d7a4d03f5d883264132dc2         1\n",
       "13382  69fb24f0cd077f460768e66b89c3565e         1\n",
       "13381  69faf0d53eb73597d6cfd50175901a56         1\n",
       "32170  fffe9eeff12fcbd74a2f2b007dde0c58         1\n",
       "\n",
       "[32171 rows x 2 columns]"
      ]
     },
     "execution_count": 168,
     "metadata": {},
     "output_type": "execute_result"
    }
   ],
   "source": [
    "dCat_TopOrders"
   ]
  },
  {
   "cell_type": "code",
   "execution_count": 169,
   "id": "7b236f04",
   "metadata": {},
   "outputs": [],
   "source": [
    "cat_reviews = df.groupby(df['product_id'])['review_score'].mean().reset_index().sort_values('review_score', ascending = False)"
   ]
  },
  {
   "cell_type": "code",
   "execution_count": 170,
   "id": "a1f8effc",
   "metadata": {},
   "outputs": [
    {
     "data": {
      "text/html": [
       "<div>\n",
       "<style scoped>\n",
       "    .dataframe tbody tr th:only-of-type {\n",
       "        vertical-align: middle;\n",
       "    }\n",
       "\n",
       "    .dataframe tbody tr th {\n",
       "        vertical-align: top;\n",
       "    }\n",
       "\n",
       "    .dataframe thead th {\n",
       "        text-align: right;\n",
       "    }\n",
       "</style>\n",
       "<table border=\"1\" class=\"dataframe\">\n",
       "  <thead>\n",
       "    <tr style=\"text-align: right;\">\n",
       "      <th></th>\n",
       "      <th>product_id</th>\n",
       "      <th>review_score</th>\n",
       "    </tr>\n",
       "  </thead>\n",
       "  <tbody>\n",
       "    <tr>\n",
       "      <th>0</th>\n",
       "      <td>00066f42aeeb9f3007548bb9d3f33c38</td>\n",
       "      <td>5.0</td>\n",
       "    </tr>\n",
       "    <tr>\n",
       "      <th>12150</th>\n",
       "      <td>602683dfc9bccec955b0527af47a15ed</td>\n",
       "      <td>5.0</td>\n",
       "    </tr>\n",
       "    <tr>\n",
       "      <th>12129</th>\n",
       "      <td>5ffd443a2b6ec639a1e28bc11936455a</td>\n",
       "      <td>5.0</td>\n",
       "    </tr>\n",
       "    <tr>\n",
       "      <th>12130</th>\n",
       "      <td>5ffeff2ac45b628674ce03e75ce4d6e3</td>\n",
       "      <td>5.0</td>\n",
       "    </tr>\n",
       "    <tr>\n",
       "      <th>12132</th>\n",
       "      <td>6000cda32a1e7f6919ae1fcdf1d6259a</td>\n",
       "      <td>5.0</td>\n",
       "    </tr>\n",
       "    <tr>\n",
       "      <th>...</th>\n",
       "      <td>...</td>\n",
       "      <td>...</td>\n",
       "    </tr>\n",
       "    <tr>\n",
       "      <th>6722</th>\n",
       "      <td>34dfc6386b7550503bd2e582ef45d041</td>\n",
       "      <td>1.0</td>\n",
       "    </tr>\n",
       "    <tr>\n",
       "      <th>28191</th>\n",
       "      <td>e003753295c13f3c5e1cff06d3728fd4</td>\n",
       "      <td>1.0</td>\n",
       "    </tr>\n",
       "    <tr>\n",
       "      <th>22031</th>\n",
       "      <td>afb83a05bfcf46258f04ce060671d5b4</td>\n",
       "      <td>1.0</td>\n",
       "    </tr>\n",
       "    <tr>\n",
       "      <th>17182</th>\n",
       "      <td>888eeb22340037a42971d30e3808a745</td>\n",
       "      <td>1.0</td>\n",
       "    </tr>\n",
       "    <tr>\n",
       "      <th>6856</th>\n",
       "      <td>3626035966a7aaee90d68108caebd386</td>\n",
       "      <td>1.0</td>\n",
       "    </tr>\n",
       "  </tbody>\n",
       "</table>\n",
       "<p>32171 rows × 2 columns</p>\n",
       "</div>"
      ],
      "text/plain": [
       "                             product_id  review_score\n",
       "0      00066f42aeeb9f3007548bb9d3f33c38           5.0\n",
       "12150  602683dfc9bccec955b0527af47a15ed           5.0\n",
       "12129  5ffd443a2b6ec639a1e28bc11936455a           5.0\n",
       "12130  5ffeff2ac45b628674ce03e75ce4d6e3           5.0\n",
       "12132  6000cda32a1e7f6919ae1fcdf1d6259a           5.0\n",
       "...                                 ...           ...\n",
       "6722   34dfc6386b7550503bd2e582ef45d041           1.0\n",
       "28191  e003753295c13f3c5e1cff06d3728fd4           1.0\n",
       "22031  afb83a05bfcf46258f04ce060671d5b4           1.0\n",
       "17182  888eeb22340037a42971d30e3808a745           1.0\n",
       "6856   3626035966a7aaee90d68108caebd386           1.0\n",
       "\n",
       "[32171 rows x 2 columns]"
      ]
     },
     "execution_count": 170,
     "metadata": {},
     "output_type": "execute_result"
    }
   ],
   "source": [
    "cat_reviews"
   ]
  },
  {
   "cell_type": "code",
   "execution_count": 171,
   "id": "ff80a6d3",
   "metadata": {},
   "outputs": [],
   "source": [
    "avg_item_val = df.groupby(df['product_id'])['price'].mean().reset_index().sort_values('price', ascending = False)"
   ]
  },
  {
   "cell_type": "code",
   "execution_count": 172,
   "id": "f933e265",
   "metadata": {},
   "outputs": [
    {
     "data": {
      "text/html": [
       "<div>\n",
       "<style scoped>\n",
       "    .dataframe tbody tr th:only-of-type {\n",
       "        vertical-align: middle;\n",
       "    }\n",
       "\n",
       "    .dataframe tbody tr th {\n",
       "        vertical-align: top;\n",
       "    }\n",
       "\n",
       "    .dataframe thead th {\n",
       "        text-align: right;\n",
       "    }\n",
       "</style>\n",
       "<table border=\"1\" class=\"dataframe\">\n",
       "  <thead>\n",
       "    <tr style=\"text-align: right;\">\n",
       "      <th></th>\n",
       "      <th>product_id</th>\n",
       "      <th>price</th>\n",
       "    </tr>\n",
       "  </thead>\n",
       "  <tbody>\n",
       "    <tr>\n",
       "      <th>9200</th>\n",
       "      <td>489ae2aa008f021502940f251d4cce7f</td>\n",
       "      <td>6735.00</td>\n",
       "    </tr>\n",
       "    <tr>\n",
       "      <th>3603</th>\n",
       "      <td>1bdf5e6731585cf01aa8169c7028d6ad</td>\n",
       "      <td>6499.00</td>\n",
       "    </tr>\n",
       "    <tr>\n",
       "      <th>20826</th>\n",
       "      <td>a6492cc69376c469ab6f61d8f44de961</td>\n",
       "      <td>4799.00</td>\n",
       "    </tr>\n",
       "    <tr>\n",
       "      <th>24606</th>\n",
       "      <td>c3ed642d592594bb648ff4a04cee2747</td>\n",
       "      <td>4690.00</td>\n",
       "    </tr>\n",
       "    <tr>\n",
       "      <th>4847</th>\n",
       "      <td>259037a6a41845e455183f89c5035f18</td>\n",
       "      <td>4590.00</td>\n",
       "    </tr>\n",
       "    <tr>\n",
       "      <th>...</th>\n",
       "      <td>...</td>\n",
       "      <td>...</td>\n",
       "    </tr>\n",
       "    <tr>\n",
       "      <th>6232</th>\n",
       "      <td>310dc32058903b6416c71faff132df9e</td>\n",
       "      <td>2.29</td>\n",
       "    </tr>\n",
       "    <tr>\n",
       "      <th>9009</th>\n",
       "      <td>46fce52cef5caa7cc225a5531c946c8b</td>\n",
       "      <td>2.20</td>\n",
       "    </tr>\n",
       "    <tr>\n",
       "      <th>5033</th>\n",
       "      <td>270516a3f41dc035aa87d220228f844c</td>\n",
       "      <td>1.20</td>\n",
       "    </tr>\n",
       "    <tr>\n",
       "      <th>682</th>\n",
       "      <td>05b515fdc76e888aada3c6d66c201dff</td>\n",
       "      <td>1.20</td>\n",
       "    </tr>\n",
       "    <tr>\n",
       "      <th>17359</th>\n",
       "      <td>8a3254bee785a526d548a81a9bc3c9be</td>\n",
       "      <td>0.85</td>\n",
       "    </tr>\n",
       "  </tbody>\n",
       "</table>\n",
       "<p>32171 rows × 2 columns</p>\n",
       "</div>"
      ],
      "text/plain": [
       "                             product_id    price\n",
       "9200   489ae2aa008f021502940f251d4cce7f  6735.00\n",
       "3603   1bdf5e6731585cf01aa8169c7028d6ad  6499.00\n",
       "20826  a6492cc69376c469ab6f61d8f44de961  4799.00\n",
       "24606  c3ed642d592594bb648ff4a04cee2747  4690.00\n",
       "4847   259037a6a41845e455183f89c5035f18  4590.00\n",
       "...                                 ...      ...\n",
       "6232   310dc32058903b6416c71faff132df9e     2.29\n",
       "9009   46fce52cef5caa7cc225a5531c946c8b     2.20\n",
       "5033   270516a3f41dc035aa87d220228f844c     1.20\n",
       "682    05b515fdc76e888aada3c6d66c201dff     1.20\n",
       "17359  8a3254bee785a526d548a81a9bc3c9be     0.85\n",
       "\n",
       "[32171 rows x 2 columns]"
      ]
     },
     "execution_count": 172,
     "metadata": {},
     "output_type": "execute_result"
    }
   ],
   "source": [
    "avg_item_val"
   ]
  },
  {
   "cell_type": "code",
   "execution_count": 173,
   "id": "84c7a9b5",
   "metadata": {},
   "outputs": [],
   "source": [
    "df['delivered_estimated'] = (df.order_estimated_delivery_date - df.order_delivered_customer_date).dt.days"
   ]
  },
  {
   "cell_type": "code",
   "execution_count": 174,
   "id": "186dd994",
   "metadata": {},
   "outputs": [],
   "source": [
    "esti_del_time = df.groupby(df['product_id'])['delivered_estimated'].mean().reset_index().sort_values('delivered_estimated', ascending = False)"
   ]
  },
  {
   "cell_type": "code",
   "execution_count": 175,
   "id": "147f7bda",
   "metadata": {},
   "outputs": [
    {
     "data": {
      "text/html": [
       "<div>\n",
       "<style scoped>\n",
       "    .dataframe tbody tr th:only-of-type {\n",
       "        vertical-align: middle;\n",
       "    }\n",
       "\n",
       "    .dataframe tbody tr th {\n",
       "        vertical-align: top;\n",
       "    }\n",
       "\n",
       "    .dataframe thead th {\n",
       "        text-align: right;\n",
       "    }\n",
       "</style>\n",
       "<table border=\"1\" class=\"dataframe\">\n",
       "  <thead>\n",
       "    <tr style=\"text-align: right;\">\n",
       "      <th></th>\n",
       "      <th>product_id</th>\n",
       "      <th>delivered_estimated</th>\n",
       "    </tr>\n",
       "  </thead>\n",
       "  <tbody>\n",
       "    <tr>\n",
       "      <th>29931</th>\n",
       "      <td>ee2f96cb63d491d963a67285f048775a</td>\n",
       "      <td>139.0</td>\n",
       "    </tr>\n",
       "    <tr>\n",
       "      <th>5373</th>\n",
       "      <td>29dcc20b00ccb0dd2136eb2f4c5f3847</td>\n",
       "      <td>134.0</td>\n",
       "    </tr>\n",
       "    <tr>\n",
       "      <th>7166</th>\n",
       "      <td>38841dec90eddf2f43cdfabc48b3831a</td>\n",
       "      <td>108.0</td>\n",
       "    </tr>\n",
       "    <tr>\n",
       "      <th>17094</th>\n",
       "      <td>87b92e06b320e803d334ac23966c80b1</td>\n",
       "      <td>84.0</td>\n",
       "    </tr>\n",
       "    <tr>\n",
       "      <th>24272</th>\n",
       "      <td>c144fdb6fc3bda28fb58900cdb37247c</td>\n",
       "      <td>83.0</td>\n",
       "    </tr>\n",
       "    <tr>\n",
       "      <th>...</th>\n",
       "      <td>...</td>\n",
       "      <td>...</td>\n",
       "    </tr>\n",
       "    <tr>\n",
       "      <th>31932</th>\n",
       "      <td>fe2f068d3b10f48ac104cd8c8dbcdfe8</td>\n",
       "      <td>NaN</td>\n",
       "    </tr>\n",
       "    <tr>\n",
       "      <th>31935</th>\n",
       "      <td>fe34a95208c5b3b69d91552aecf1bd71</td>\n",
       "      <td>NaN</td>\n",
       "    </tr>\n",
       "    <tr>\n",
       "      <th>31941</th>\n",
       "      <td>fe4afcfae208147e0189eaa4c3f5fb8d</td>\n",
       "      <td>NaN</td>\n",
       "    </tr>\n",
       "    <tr>\n",
       "      <th>31953</th>\n",
       "      <td>fe644da1135fedca6aa0bf794fab71be</td>\n",
       "      <td>NaN</td>\n",
       "    </tr>\n",
       "    <tr>\n",
       "      <th>32135</th>\n",
       "      <td>ffbfa9e143fda4420454d0f4e88a3cd5</td>\n",
       "      <td>NaN</td>\n",
       "    </tr>\n",
       "  </tbody>\n",
       "</table>\n",
       "<p>32171 rows × 2 columns</p>\n",
       "</div>"
      ],
      "text/plain": [
       "                             product_id  delivered_estimated\n",
       "29931  ee2f96cb63d491d963a67285f048775a                139.0\n",
       "5373   29dcc20b00ccb0dd2136eb2f4c5f3847                134.0\n",
       "7166   38841dec90eddf2f43cdfabc48b3831a                108.0\n",
       "17094  87b92e06b320e803d334ac23966c80b1                 84.0\n",
       "24272  c144fdb6fc3bda28fb58900cdb37247c                 83.0\n",
       "...                                 ...                  ...\n",
       "31932  fe2f068d3b10f48ac104cd8c8dbcdfe8                  NaN\n",
       "31935  fe34a95208c5b3b69d91552aecf1bd71                  NaN\n",
       "31941  fe4afcfae208147e0189eaa4c3f5fb8d                  NaN\n",
       "31953  fe644da1135fedca6aa0bf794fab71be                  NaN\n",
       "32135  ffbfa9e143fda4420454d0f4e88a3cd5                  NaN\n",
       "\n",
       "[32171 rows x 2 columns]"
      ]
     },
     "execution_count": 175,
     "metadata": {},
     "output_type": "execute_result"
    }
   ],
   "source": [
    "esti_del_time"
   ]
  },
  {
   "cell_type": "code",
   "execution_count": 176,
   "id": "f2e58d30",
   "metadata": {},
   "outputs": [],
   "source": [
    "df_reg = pd.merge(dCat_TopOrders, cat_reviews, on=\"product_id\", how='outer')\n",
    "df_reg = df_reg.merge(avg_item_val, on=\"product_id\", how='outer')\n",
    "df_reg = df_reg.merge(esti_del_time, on=\"product_id\", how='outer')"
   ]
  },
  {
   "cell_type": "code",
   "execution_count": 177,
   "id": "1c713fd9",
   "metadata": {},
   "outputs": [
    {
     "data": {
      "text/html": [
       "<div>\n",
       "<style scoped>\n",
       "    .dataframe tbody tr th:only-of-type {\n",
       "        vertical-align: middle;\n",
       "    }\n",
       "\n",
       "    .dataframe tbody tr th {\n",
       "        vertical-align: top;\n",
       "    }\n",
       "\n",
       "    .dataframe thead th {\n",
       "        text-align: right;\n",
       "    }\n",
       "</style>\n",
       "<table border=\"1\" class=\"dataframe\">\n",
       "  <thead>\n",
       "    <tr style=\"text-align: right;\">\n",
       "      <th></th>\n",
       "      <th>product_id</th>\n",
       "      <th>order_id</th>\n",
       "      <th>review_score</th>\n",
       "      <th>price</th>\n",
       "      <th>delivered_estimated</th>\n",
       "    </tr>\n",
       "  </thead>\n",
       "  <tbody>\n",
       "    <tr>\n",
       "      <th>0</th>\n",
       "      <td>99a4788cb24856965c36a24e339b6058</td>\n",
       "      <td>458</td>\n",
       "      <td>3.914894</td>\n",
       "      <td>88.175551</td>\n",
       "      <td>9.459566</td>\n",
       "    </tr>\n",
       "    <tr>\n",
       "      <th>1</th>\n",
       "      <td>aca2eb7d00ea1a7b8ebd4e68314663af</td>\n",
       "      <td>429</td>\n",
       "      <td>4.020638</td>\n",
       "      <td>71.347655</td>\n",
       "      <td>9.020913</td>\n",
       "    </tr>\n",
       "    <tr>\n",
       "      <th>2</th>\n",
       "      <td>422879e10f46682990de24d770e7f83d</td>\n",
       "      <td>351</td>\n",
       "      <td>3.927022</td>\n",
       "      <td>54.827850</td>\n",
       "      <td>9.360947</td>\n",
       "    </tr>\n",
       "    <tr>\n",
       "      <th>3</th>\n",
       "      <td>d1c427060a0f73f6b889a5c7c61f2ac4</td>\n",
       "      <td>320</td>\n",
       "      <td>4.096045</td>\n",
       "      <td>137.554802</td>\n",
       "      <td>12.171512</td>\n",
       "    </tr>\n",
       "    <tr>\n",
       "      <th>4</th>\n",
       "      <td>389d119b48cf3043d311335e499d9c6b</td>\n",
       "      <td>310</td>\n",
       "      <td>4.106173</td>\n",
       "      <td>54.635284</td>\n",
       "      <td>8.920398</td>\n",
       "    </tr>\n",
       "    <tr>\n",
       "      <th>...</th>\n",
       "      <td>...</td>\n",
       "      <td>...</td>\n",
       "      <td>...</td>\n",
       "      <td>...</td>\n",
       "      <td>...</td>\n",
       "    </tr>\n",
       "    <tr>\n",
       "      <th>32166</th>\n",
       "      <td>69ff1e4ad10ccba4d0e1ffc0aa771380</td>\n",
       "      <td>1</td>\n",
       "      <td>3.000000</td>\n",
       "      <td>189.990000</td>\n",
       "      <td>3.000000</td>\n",
       "    </tr>\n",
       "    <tr>\n",
       "      <th>32167</th>\n",
       "      <td>69fef0f440d7a4d03f5d883264132dc2</td>\n",
       "      <td>1</td>\n",
       "      <td>5.000000</td>\n",
       "      <td>695.720000</td>\n",
       "      <td>11.000000</td>\n",
       "    </tr>\n",
       "    <tr>\n",
       "      <th>32168</th>\n",
       "      <td>69fb24f0cd077f460768e66b89c3565e</td>\n",
       "      <td>1</td>\n",
       "      <td>5.000000</td>\n",
       "      <td>45.000000</td>\n",
       "      <td>8.000000</td>\n",
       "    </tr>\n",
       "    <tr>\n",
       "      <th>32169</th>\n",
       "      <td>69faf0d53eb73597d6cfd50175901a56</td>\n",
       "      <td>1</td>\n",
       "      <td>5.000000</td>\n",
       "      <td>29.900000</td>\n",
       "      <td>45.000000</td>\n",
       "    </tr>\n",
       "    <tr>\n",
       "      <th>32170</th>\n",
       "      <td>fffe9eeff12fcbd74a2f2b007dde0c58</td>\n",
       "      <td>1</td>\n",
       "      <td>4.000000</td>\n",
       "      <td>249.990000</td>\n",
       "      <td>-3.000000</td>\n",
       "    </tr>\n",
       "  </tbody>\n",
       "</table>\n",
       "<p>32171 rows × 5 columns</p>\n",
       "</div>"
      ],
      "text/plain": [
       "                             product_id  order_id  review_score       price  \\\n",
       "0      99a4788cb24856965c36a24e339b6058       458      3.914894   88.175551   \n",
       "1      aca2eb7d00ea1a7b8ebd4e68314663af       429      4.020638   71.347655   \n",
       "2      422879e10f46682990de24d770e7f83d       351      3.927022   54.827850   \n",
       "3      d1c427060a0f73f6b889a5c7c61f2ac4       320      4.096045  137.554802   \n",
       "4      389d119b48cf3043d311335e499d9c6b       310      4.106173   54.635284   \n",
       "...                                 ...       ...           ...         ...   \n",
       "32166  69ff1e4ad10ccba4d0e1ffc0aa771380         1      3.000000  189.990000   \n",
       "32167  69fef0f440d7a4d03f5d883264132dc2         1      5.000000  695.720000   \n",
       "32168  69fb24f0cd077f460768e66b89c3565e         1      5.000000   45.000000   \n",
       "32169  69faf0d53eb73597d6cfd50175901a56         1      5.000000   29.900000   \n",
       "32170  fffe9eeff12fcbd74a2f2b007dde0c58         1      4.000000  249.990000   \n",
       "\n",
       "       delivered_estimated  \n",
       "0                 9.459566  \n",
       "1                 9.020913  \n",
       "2                 9.360947  \n",
       "3                12.171512  \n",
       "4                 8.920398  \n",
       "...                    ...  \n",
       "32166             3.000000  \n",
       "32167            11.000000  \n",
       "32168             8.000000  \n",
       "32169            45.000000  \n",
       "32170            -3.000000  \n",
       "\n",
       "[32171 rows x 5 columns]"
      ]
     },
     "execution_count": 177,
     "metadata": {},
     "output_type": "execute_result"
    }
   ],
   "source": [
    "df_reg"
   ]
  },
  {
   "cell_type": "code",
   "execution_count": 178,
   "id": "4794ee6e",
   "metadata": {},
   "outputs": [
    {
     "data": {
      "text/plain": [
       "<bound method NDFrame._add_numeric_operations.<locals>.sum of product_id             32171\n",
       "order_id                 128\n",
       "review_score             685\n",
       "price                   8774\n",
       "delivered_estimated     1915\n",
       "dtype: int64>"
      ]
     },
     "execution_count": 178,
     "metadata": {},
     "output_type": "execute_result"
    }
   ],
   "source": [
    "df_reg.nunique().sum"
   ]
  },
  {
   "cell_type": "code",
   "execution_count": 179,
   "id": "90f9c12f",
   "metadata": {},
   "outputs": [],
   "source": [
    "dict = {'order_id': 'sales_amt',\n",
    "        'review_score': 'avg_review_score',\n",
    "        'price': 'avg_price',\n",
    "        'delivered_estimated': 'estimated_delivery',\n",
    "       }\n",
    "\n",
    "# call rename () method\n",
    "df_reg.rename(columns=dict,\n",
    "          inplace=True)"
   ]
  },
  {
   "cell_type": "code",
   "execution_count": 180,
   "id": "b2f46c89",
   "metadata": {},
   "outputs": [],
   "source": [
    "a = df.loc[:, ['product_id','product_category']] "
   ]
  },
  {
   "cell_type": "code",
   "execution_count": 181,
   "id": "33d63bc2",
   "metadata": {},
   "outputs": [],
   "source": [
    "sales = pd.merge(df_reg,a, on=\"product_id\", how='right')"
   ]
  },
  {
   "cell_type": "code",
   "execution_count": 182,
   "id": "75d4baff",
   "metadata": {},
   "outputs": [
    {
     "data": {
      "text/html": [
       "<div>\n",
       "<style scoped>\n",
       "    .dataframe tbody tr th:only-of-type {\n",
       "        vertical-align: middle;\n",
       "    }\n",
       "\n",
       "    .dataframe tbody tr th {\n",
       "        vertical-align: top;\n",
       "    }\n",
       "\n",
       "    .dataframe thead th {\n",
       "        text-align: right;\n",
       "    }\n",
       "</style>\n",
       "<table border=\"1\" class=\"dataframe\">\n",
       "  <thead>\n",
       "    <tr style=\"text-align: right;\">\n",
       "      <th></th>\n",
       "      <th>product_id</th>\n",
       "      <th>sales_amt</th>\n",
       "      <th>avg_review_score</th>\n",
       "      <th>avg_price</th>\n",
       "      <th>estimated_delivery</th>\n",
       "      <th>product_category</th>\n",
       "    </tr>\n",
       "  </thead>\n",
       "  <tbody>\n",
       "    <tr>\n",
       "      <th>0</th>\n",
       "      <td>a9516a079e37a9c9c36b9b78b10169e8</td>\n",
       "      <td>40</td>\n",
       "      <td>3.393443</td>\n",
       "      <td>119.285082</td>\n",
       "      <td>10.245902</td>\n",
       "      <td>Furniture</td>\n",
       "    </tr>\n",
       "    <tr>\n",
       "      <th>1</th>\n",
       "      <td>a9516a079e37a9c9c36b9b78b10169e8</td>\n",
       "      <td>40</td>\n",
       "      <td>3.393443</td>\n",
       "      <td>119.285082</td>\n",
       "      <td>10.245902</td>\n",
       "      <td>Furniture</td>\n",
       "    </tr>\n",
       "    <tr>\n",
       "      <th>2</th>\n",
       "      <td>a9516a079e37a9c9c36b9b78b10169e8</td>\n",
       "      <td>40</td>\n",
       "      <td>3.393443</td>\n",
       "      <td>119.285082</td>\n",
       "      <td>10.245902</td>\n",
       "      <td>Furniture</td>\n",
       "    </tr>\n",
       "    <tr>\n",
       "      <th>3</th>\n",
       "      <td>a9516a079e37a9c9c36b9b78b10169e8</td>\n",
       "      <td>40</td>\n",
       "      <td>3.393443</td>\n",
       "      <td>119.285082</td>\n",
       "      <td>10.245902</td>\n",
       "      <td>Furniture</td>\n",
       "    </tr>\n",
       "    <tr>\n",
       "      <th>4</th>\n",
       "      <td>a9516a079e37a9c9c36b9b78b10169e8</td>\n",
       "      <td>40</td>\n",
       "      <td>3.393443</td>\n",
       "      <td>119.285082</td>\n",
       "      <td>10.245902</td>\n",
       "      <td>Furniture</td>\n",
       "    </tr>\n",
       "    <tr>\n",
       "      <th>...</th>\n",
       "      <td>...</td>\n",
       "      <td>...</td>\n",
       "      <td>...</td>\n",
       "      <td>...</td>\n",
       "      <td>...</td>\n",
       "      <td>...</td>\n",
       "    </tr>\n",
       "    <tr>\n",
       "      <th>115604</th>\n",
       "      <td>ea9b0b855335919945731f9368f83dc9</td>\n",
       "      <td>1</td>\n",
       "      <td>5.000000</td>\n",
       "      <td>193.000000</td>\n",
       "      <td>17.000000</td>\n",
       "      <td>Home &amp; Garden</td>\n",
       "    </tr>\n",
       "    <tr>\n",
       "      <th>115605</th>\n",
       "      <td>0c800efe70e04ffcc3b266946e3e4826</td>\n",
       "      <td>1</td>\n",
       "      <td>4.000000</td>\n",
       "      <td>389.000000</td>\n",
       "      <td>11.000000</td>\n",
       "      <td>Home &amp; Garden</td>\n",
       "    </tr>\n",
       "    <tr>\n",
       "      <th>115606</th>\n",
       "      <td>775596b5ab8f1cb5890c7263c1c92bc4</td>\n",
       "      <td>1</td>\n",
       "      <td>5.000000</td>\n",
       "      <td>139.000000</td>\n",
       "      <td>13.000000</td>\n",
       "      <td>Home &amp; Garden</td>\n",
       "    </tr>\n",
       "    <tr>\n",
       "      <th>115607</th>\n",
       "      <td>cc9e875c2df286dbed83efe01191162c</td>\n",
       "      <td>1</td>\n",
       "      <td>5.000000</td>\n",
       "      <td>129.000000</td>\n",
       "      <td>18.000000</td>\n",
       "      <td>Home &amp; Garden</td>\n",
       "    </tr>\n",
       "    <tr>\n",
       "      <th>115608</th>\n",
       "      <td>cc9e875c2df286dbed83efe01191162c</td>\n",
       "      <td>1</td>\n",
       "      <td>5.000000</td>\n",
       "      <td>129.000000</td>\n",
       "      <td>18.000000</td>\n",
       "      <td>Home &amp; Garden</td>\n",
       "    </tr>\n",
       "  </tbody>\n",
       "</table>\n",
       "<p>115609 rows × 6 columns</p>\n",
       "</div>"
      ],
      "text/plain": [
       "                              product_id  sales_amt  avg_review_score  \\\n",
       "0       a9516a079e37a9c9c36b9b78b10169e8         40          3.393443   \n",
       "1       a9516a079e37a9c9c36b9b78b10169e8         40          3.393443   \n",
       "2       a9516a079e37a9c9c36b9b78b10169e8         40          3.393443   \n",
       "3       a9516a079e37a9c9c36b9b78b10169e8         40          3.393443   \n",
       "4       a9516a079e37a9c9c36b9b78b10169e8         40          3.393443   \n",
       "...                                  ...        ...               ...   \n",
       "115604  ea9b0b855335919945731f9368f83dc9          1          5.000000   \n",
       "115605  0c800efe70e04ffcc3b266946e3e4826          1          4.000000   \n",
       "115606  775596b5ab8f1cb5890c7263c1c92bc4          1          5.000000   \n",
       "115607  cc9e875c2df286dbed83efe01191162c          1          5.000000   \n",
       "115608  cc9e875c2df286dbed83efe01191162c          1          5.000000   \n",
       "\n",
       "         avg_price  estimated_delivery product_category  \n",
       "0       119.285082           10.245902        Furniture  \n",
       "1       119.285082           10.245902        Furniture  \n",
       "2       119.285082           10.245902        Furniture  \n",
       "3       119.285082           10.245902        Furniture  \n",
       "4       119.285082           10.245902        Furniture  \n",
       "...            ...                 ...              ...  \n",
       "115604  193.000000           17.000000    Home & Garden  \n",
       "115605  389.000000           11.000000    Home & Garden  \n",
       "115606  139.000000           13.000000    Home & Garden  \n",
       "115607  129.000000           18.000000    Home & Garden  \n",
       "115608  129.000000           18.000000    Home & Garden  \n",
       "\n",
       "[115609 rows x 6 columns]"
      ]
     },
     "execution_count": 182,
     "metadata": {},
     "output_type": "execute_result"
    }
   ],
   "source": [
    "sales"
   ]
  },
  {
   "cell_type": "code",
   "execution_count": 183,
   "id": "d21ec5e7",
   "metadata": {},
   "outputs": [
    {
     "name": "stdout",
     "output_type": "stream",
     "text": [
      "<class 'pandas.core.frame.DataFrame'>\n",
      "Int64Index: 115609 entries, 0 to 115608\n",
      "Data columns (total 6 columns):\n",
      " #   Column              Non-Null Count   Dtype  \n",
      "---  ------              --------------   -----  \n",
      " 0   product_id          115609 non-null  object \n",
      " 1   sales_amt           115609 non-null  int64  \n",
      " 2   avg_review_score    115609 non-null  float64\n",
      " 3   avg_price           115609 non-null  float64\n",
      " 4   estimated_delivery  114674 non-null  float64\n",
      " 5   product_category    115609 non-null  object \n",
      "dtypes: float64(3), int64(1), object(2)\n",
      "memory usage: 6.2+ MB\n"
     ]
    }
   ],
   "source": [
    "sales.info()"
   ]
  },
  {
   "cell_type": "code",
   "execution_count": null,
   "id": "2a417917",
   "metadata": {},
   "outputs": [],
   "source": []
  },
  {
   "cell_type": "code",
   "execution_count": 184,
   "id": "638b77da",
   "metadata": {},
   "outputs": [
    {
     "data": {
      "text/html": [
       "<div>\n",
       "<style scoped>\n",
       "    .dataframe tbody tr th:only-of-type {\n",
       "        vertical-align: middle;\n",
       "    }\n",
       "\n",
       "    .dataframe tbody tr th {\n",
       "        vertical-align: top;\n",
       "    }\n",
       "\n",
       "    .dataframe thead th {\n",
       "        text-align: right;\n",
       "    }\n",
       "</style>\n",
       "<table border=\"1\" class=\"dataframe\">\n",
       "  <thead>\n",
       "    <tr style=\"text-align: right;\">\n",
       "      <th></th>\n",
       "      <th>product_id</th>\n",
       "      <th>sales_amt</th>\n",
       "      <th>avg_review_score</th>\n",
       "      <th>avg_price</th>\n",
       "      <th>estimated_delivery</th>\n",
       "      <th>product_category</th>\n",
       "    </tr>\n",
       "  </thead>\n",
       "  <tbody>\n",
       "    <tr>\n",
       "      <th>0</th>\n",
       "      <td>a9516a079e37a9c9c36b9b78b10169e8</td>\n",
       "      <td>40</td>\n",
       "      <td>3.393443</td>\n",
       "      <td>119.285082</td>\n",
       "      <td>10.245902</td>\n",
       "      <td>Furniture</td>\n",
       "    </tr>\n",
       "    <tr>\n",
       "      <th>1</th>\n",
       "      <td>a9516a079e37a9c9c36b9b78b10169e8</td>\n",
       "      <td>40</td>\n",
       "      <td>3.393443</td>\n",
       "      <td>119.285082</td>\n",
       "      <td>10.245902</td>\n",
       "      <td>Furniture</td>\n",
       "    </tr>\n",
       "    <tr>\n",
       "      <th>2</th>\n",
       "      <td>a9516a079e37a9c9c36b9b78b10169e8</td>\n",
       "      <td>40</td>\n",
       "      <td>3.393443</td>\n",
       "      <td>119.285082</td>\n",
       "      <td>10.245902</td>\n",
       "      <td>Furniture</td>\n",
       "    </tr>\n",
       "    <tr>\n",
       "      <th>3</th>\n",
       "      <td>a9516a079e37a9c9c36b9b78b10169e8</td>\n",
       "      <td>40</td>\n",
       "      <td>3.393443</td>\n",
       "      <td>119.285082</td>\n",
       "      <td>10.245902</td>\n",
       "      <td>Furniture</td>\n",
       "    </tr>\n",
       "    <tr>\n",
       "      <th>4</th>\n",
       "      <td>a9516a079e37a9c9c36b9b78b10169e8</td>\n",
       "      <td>40</td>\n",
       "      <td>3.393443</td>\n",
       "      <td>119.285082</td>\n",
       "      <td>10.245902</td>\n",
       "      <td>Furniture</td>\n",
       "    </tr>\n",
       "    <tr>\n",
       "      <th>...</th>\n",
       "      <td>...</td>\n",
       "      <td>...</td>\n",
       "      <td>...</td>\n",
       "      <td>...</td>\n",
       "      <td>...</td>\n",
       "      <td>...</td>\n",
       "    </tr>\n",
       "    <tr>\n",
       "      <th>115604</th>\n",
       "      <td>ea9b0b855335919945731f9368f83dc9</td>\n",
       "      <td>1</td>\n",
       "      <td>5.000000</td>\n",
       "      <td>193.000000</td>\n",
       "      <td>17.000000</td>\n",
       "      <td>Home &amp; Garden</td>\n",
       "    </tr>\n",
       "    <tr>\n",
       "      <th>115605</th>\n",
       "      <td>0c800efe70e04ffcc3b266946e3e4826</td>\n",
       "      <td>1</td>\n",
       "      <td>4.000000</td>\n",
       "      <td>389.000000</td>\n",
       "      <td>11.000000</td>\n",
       "      <td>Home &amp; Garden</td>\n",
       "    </tr>\n",
       "    <tr>\n",
       "      <th>115606</th>\n",
       "      <td>775596b5ab8f1cb5890c7263c1c92bc4</td>\n",
       "      <td>1</td>\n",
       "      <td>5.000000</td>\n",
       "      <td>139.000000</td>\n",
       "      <td>13.000000</td>\n",
       "      <td>Home &amp; Garden</td>\n",
       "    </tr>\n",
       "    <tr>\n",
       "      <th>115607</th>\n",
       "      <td>cc9e875c2df286dbed83efe01191162c</td>\n",
       "      <td>1</td>\n",
       "      <td>5.000000</td>\n",
       "      <td>129.000000</td>\n",
       "      <td>18.000000</td>\n",
       "      <td>Home &amp; Garden</td>\n",
       "    </tr>\n",
       "    <tr>\n",
       "      <th>115608</th>\n",
       "      <td>cc9e875c2df286dbed83efe01191162c</td>\n",
       "      <td>1</td>\n",
       "      <td>5.000000</td>\n",
       "      <td>129.000000</td>\n",
       "      <td>18.000000</td>\n",
       "      <td>Home &amp; Garden</td>\n",
       "    </tr>\n",
       "  </tbody>\n",
       "</table>\n",
       "<p>115609 rows × 6 columns</p>\n",
       "</div>"
      ],
      "text/plain": [
       "                              product_id  sales_amt  avg_review_score  \\\n",
       "0       a9516a079e37a9c9c36b9b78b10169e8         40          3.393443   \n",
       "1       a9516a079e37a9c9c36b9b78b10169e8         40          3.393443   \n",
       "2       a9516a079e37a9c9c36b9b78b10169e8         40          3.393443   \n",
       "3       a9516a079e37a9c9c36b9b78b10169e8         40          3.393443   \n",
       "4       a9516a079e37a9c9c36b9b78b10169e8         40          3.393443   \n",
       "...                                  ...        ...               ...   \n",
       "115604  ea9b0b855335919945731f9368f83dc9          1          5.000000   \n",
       "115605  0c800efe70e04ffcc3b266946e3e4826          1          4.000000   \n",
       "115606  775596b5ab8f1cb5890c7263c1c92bc4          1          5.000000   \n",
       "115607  cc9e875c2df286dbed83efe01191162c          1          5.000000   \n",
       "115608  cc9e875c2df286dbed83efe01191162c          1          5.000000   \n",
       "\n",
       "         avg_price  estimated_delivery product_category  \n",
       "0       119.285082           10.245902        Furniture  \n",
       "1       119.285082           10.245902        Furniture  \n",
       "2       119.285082           10.245902        Furniture  \n",
       "3       119.285082           10.245902        Furniture  \n",
       "4       119.285082           10.245902        Furniture  \n",
       "...            ...                 ...              ...  \n",
       "115604  193.000000           17.000000    Home & Garden  \n",
       "115605  389.000000           11.000000    Home & Garden  \n",
       "115606  139.000000           13.000000    Home & Garden  \n",
       "115607  129.000000           18.000000    Home & Garden  \n",
       "115608  129.000000           18.000000    Home & Garden  \n",
       "\n",
       "[115609 rows x 6 columns]"
      ]
     },
     "execution_count": 184,
     "metadata": {},
     "output_type": "execute_result"
    }
   ],
   "source": [
    "sales"
   ]
  },
  {
   "cell_type": "code",
   "execution_count": 185,
   "id": "caaec7b0",
   "metadata": {},
   "outputs": [
    {
     "data": {
      "text/plain": [
       "product_id              0\n",
       "sales_amt               0\n",
       "avg_review_score        0\n",
       "avg_price               0\n",
       "estimated_delivery    935\n",
       "product_category        0\n",
       "dtype: int64"
      ]
     },
     "execution_count": 185,
     "metadata": {},
     "output_type": "execute_result"
    }
   ],
   "source": [
    "sales.isnull().sum()"
   ]
  },
  {
   "cell_type": "code",
   "execution_count": 186,
   "id": "a0941ed4",
   "metadata": {},
   "outputs": [],
   "source": [
    "sales.dropna(axis=\"rows\",inplace=True)"
   ]
  },
  {
   "cell_type": "code",
   "execution_count": 187,
   "id": "bc158eb6",
   "metadata": {},
   "outputs": [
    {
     "data": {
      "text/plain": [
       "product_id            0\n",
       "sales_amt             0\n",
       "avg_review_score      0\n",
       "avg_price             0\n",
       "estimated_delivery    0\n",
       "product_category      0\n",
       "dtype: int64"
      ]
     },
     "execution_count": 187,
     "metadata": {},
     "output_type": "execute_result"
    }
   ],
   "source": [
    "sales.isnull().sum()"
   ]
  },
  {
   "cell_type": "code",
   "execution_count": 188,
   "id": "9d21b0b9",
   "metadata": {},
   "outputs": [],
   "source": [
    "from sklearn import preprocessing\n",
    "\n",
    "label_encoder = preprocessing.LabelEncoder()\n",
    "\n",
    "sales['product_category']= label_encoder.fit_transform(sales['product_category'])"
   ]
  },
  {
   "cell_type": "code",
   "execution_count": 189,
   "id": "16773575",
   "metadata": {},
   "outputs": [],
   "source": [
    "from sklearn.model_selection import train_test_split\n",
    "\n",
    "x = sales.drop(['product_id','sales_amt'], axis='columns')\n",
    "y = sales[['sales_amt']]\n",
    "x_train, x_test, y_train, y_test = train_test_split(x, y, test_size = 1/3, random_state = 101)\n"
   ]
  },
  {
   "cell_type": "code",
   "execution_count": null,
   "id": "bed39968",
   "metadata": {},
   "outputs": [],
   "source": []
  },
  {
   "cell_type": "code",
   "execution_count": null,
   "id": "e8917503",
   "metadata": {},
   "outputs": [],
   "source": []
  },
  {
   "cell_type": "code",
   "execution_count": 190,
   "id": "8d86dcb2",
   "metadata": {},
   "outputs": [],
   "source": [
    "from sklearn import metrics"
   ]
  },
  {
   "cell_type": "code",
   "execution_count": 191,
   "id": "36db806b",
   "metadata": {},
   "outputs": [],
   "source": [
    "from sklearn.tree import DecisionTreeRegressor"
   ]
  },
  {
   "cell_type": "code",
   "execution_count": 192,
   "id": "4fab0e76",
   "metadata": {},
   "outputs": [],
   "source": [
    "dt = DecisionTreeRegressor(max_depth=10)"
   ]
  },
  {
   "cell_type": "code",
   "execution_count": 193,
   "id": "20445783",
   "metadata": {},
   "outputs": [
    {
     "data": {
      "text/plain": [
       "DecisionTreeRegressor(max_depth=10)"
      ]
     },
     "execution_count": 193,
     "metadata": {},
     "output_type": "execute_result"
    }
   ],
   "source": [
    "dt.fit(x_train,y_train)"
   ]
  },
  {
   "cell_type": "code",
   "execution_count": 194,
   "id": "a7a7b76b",
   "metadata": {},
   "outputs": [],
   "source": [
    "y_pred_dt = dt.predict(x_test)"
   ]
  },
  {
   "cell_type": "code",
   "execution_count": 195,
   "id": "ec0b97e6",
   "metadata": {},
   "outputs": [
    {
     "name": "stdout",
     "output_type": "stream",
     "text": [
      "R squared value 0.8925899694335545\n",
      "MAE 9.418818978021692\n",
      "MSE 22.65397772150434\n"
     ]
    }
   ],
   "source": [
    "print(\"R squared value\",metrics.r2_score(y_test,y_pred_dt))\n",
    "print(\"MAE\",metrics.mean_absolute_error(y_test,y_pred_dt))\n",
    "print(\"MSE\",np.sqrt(metrics.mean_squared_error(y_test,y_pred_dt)))"
   ]
  },
  {
   "cell_type": "code",
   "execution_count": 196,
   "id": "e9a12715",
   "metadata": {},
   "outputs": [],
   "source": [
    "from sklearn.ensemble import RandomForestRegressor\n",
    "\n",
    "rf= RandomForestRegressor(max_depth=10, min_samples_split = 5)"
   ]
  },
  {
   "cell_type": "code",
   "execution_count": 197,
   "id": "8488ea98",
   "metadata": {},
   "outputs": [],
   "source": [
    "y_train = np.ravel(y_train)"
   ]
  },
  {
   "cell_type": "code",
   "execution_count": 198,
   "id": "2ba2ae3b",
   "metadata": {},
   "outputs": [
    {
     "data": {
      "text/plain": [
       "RandomForestRegressor(max_depth=10, min_samples_split=5)"
      ]
     },
     "execution_count": 198,
     "metadata": {},
     "output_type": "execute_result"
    }
   ],
   "source": [
    "rf.fit(x_train,y_train)"
   ]
  },
  {
   "cell_type": "code",
   "execution_count": 199,
   "id": "3dfaef7d",
   "metadata": {},
   "outputs": [],
   "source": [
    "y_pred_rf= rf.predict(x_test)"
   ]
  },
  {
   "cell_type": "code",
   "execution_count": 200,
   "id": "b2074846",
   "metadata": {},
   "outputs": [
    {
     "name": "stdout",
     "output_type": "stream",
     "text": [
      "R squared value 0.9141446110412305\n",
      "MAE 9.01071114599573\n",
      "MSE 20.253767909430735\n"
     ]
    }
   ],
   "source": [
    "print(\"R squared value\",metrics.r2_score(y_test,y_pred_rf))\n",
    "print(\"MAE\",metrics.mean_absolute_error(y_test,y_pred_rf))\n",
    "print(\"MSE\",np.sqrt(metrics.mean_squared_error(y_test,y_pred_rf)))"
   ]
  },
  {
   "cell_type": "code",
   "execution_count": 202,
   "id": "a94dc393",
   "metadata": {},
   "outputs": [
    {
     "ename": "SyntaxError",
     "evalue": "invalid syntax (3385494475.py, line 1)",
     "output_type": "error",
     "traceback": [
      "\u001b[1;36m  File \u001b[1;32m\"C:\\Users\\Yash Thakar\\AppData\\Local\\Temp\\ipykernel_15484\\3385494475.py\"\u001b[1;36m, line \u001b[1;32m1\u001b[0m\n\u001b[1;33m    from xgboost import\u001b[0m\n\u001b[1;37m                        ^\u001b[0m\n\u001b[1;31mSyntaxError\u001b[0m\u001b[1;31m:\u001b[0m invalid syntax\n"
     ]
    }
   ],
   "source": [
    "from xgboost import "
   ]
  },
  {
   "cell_type": "code",
   "execution_count": 203,
   "id": "2123f1fc",
   "metadata": {},
   "outputs": [],
   "source": [
    "xgb=XGBRegressor(n_estimators=100,random_state=42, learning_rate=0.05)"
   ]
  },
  {
   "cell_type": "code",
   "execution_count": 204,
   "id": "808085f0",
   "metadata": {},
   "outputs": [
    {
     "data": {
      "text/plain": [
       "XGBRegressor(base_score=None, booster=None, callbacks=None,\n",
       "             colsample_bylevel=None, colsample_bynode=None,\n",
       "             colsample_bytree=None, early_stopping_rounds=None,\n",
       "             enable_categorical=False, eval_metric=None, feature_types=None,\n",
       "             gamma=None, gpu_id=None, grow_policy=None, importance_type=None,\n",
       "             interaction_constraints=None, learning_rate=0.05, max_bin=None,\n",
       "             max_cat_threshold=None, max_cat_to_onehot=None,\n",
       "             max_delta_step=None, max_depth=None, max_leaves=None,\n",
       "             min_child_weight=None, missing=nan, monotone_constraints=None,\n",
       "             n_estimators=100, n_jobs=None, num_parallel_tree=None,\n",
       "             predictor=None, random_state=42, ...)"
      ]
     },
     "execution_count": 204,
     "metadata": {},
     "output_type": "execute_result"
    }
   ],
   "source": [
    "xgb.fit(x_train,y_train)"
   ]
  },
  {
   "cell_type": "code",
   "execution_count": 205,
   "id": "f2a591d5",
   "metadata": {},
   "outputs": [],
   "source": [
    "y_pred_xgb = xgb.predict(x_test)"
   ]
  },
  {
   "cell_type": "code",
   "execution_count": 206,
   "id": "e7bf7a63",
   "metadata": {},
   "outputs": [
    {
     "name": "stdout",
     "output_type": "stream",
     "text": [
      "R squared value 0.9459609561509599\n",
      "MAE 10.262075330105832\n",
      "MSE 16.068519977477678\n"
     ]
    }
   ],
   "source": [
    "print(\"R squared value\",metrics.r2_score(y_test,y_pred_xgb))\n",
    "print(\"MAE\",metrics.mean_absolute_error(y_test,y_pred_xgb))\n",
    "print(\"MSE\",np.sqrt(metrics.mean_squared_error(y_test,y_pred_xgb)))"
   ]
  },
  {
   "cell_type": "code",
   "execution_count": 207,
   "id": "94143fc6",
   "metadata": {},
   "outputs": [],
   "source": [
    "from sklearn.model_selection import train_test_split\n",
    "\n",
    "x = sales.drop(['product_id','sales_amt'], axis='columns')\n",
    "y = sales[['sales_amt']]\n",
    "x_train, x_test, y_train, y_test = train_test_split(x, y, test_size = 1/3, random_state = 101)"
   ]
  },
  {
   "cell_type": "code",
   "execution_count": 208,
   "id": "75dba7ee",
   "metadata": {},
   "outputs": [
    {
     "data": {
      "text/plain": [
       "LinearRegression()"
      ]
     },
     "execution_count": 208,
     "metadata": {},
     "output_type": "execute_result"
    }
   ],
   "source": [
    "from sklearn.linear_model import LinearRegression\n",
    "regressor = LinearRegression()\n",
    "regressor.fit(x_train,y_train)"
   ]
  },
  {
   "cell_type": "code",
   "execution_count": 209,
   "id": "a017fcc6",
   "metadata": {},
   "outputs": [],
   "source": [
    "y_pred_linear = regressor.predict(x_test)"
   ]
  },
  {
   "cell_type": "code",
   "execution_count": 210,
   "id": "5ca4af1b",
   "metadata": {},
   "outputs": [
    {
     "name": "stdout",
     "output_type": "stream",
     "text": [
      "R squared value 0.005427260737199013\n",
      "MAE 39.14167447925617\n",
      "MSE 68.9350864594877\n"
     ]
    }
   ],
   "source": [
    "print(\"R squared value\",metrics.r2_score(y_test,y_pred_linear))\n",
    "print(\"MAE\",metrics.mean_absolute_error(y_test,y_pred_linear))\n",
    "print(\"MSE\",np.sqrt(metrics.mean_squared_error(y_test,y_pred_linear)))"
   ]
  },
  {
   "cell_type": "code",
   "execution_count": null,
   "id": "ed2419b8",
   "metadata": {},
   "outputs": [],
   "source": []
  }
 ],
 "metadata": {
  "kernelspec": {
   "display_name": "Python 3 (ipykernel)",
   "language": "python",
   "name": "python3"
  },
  "language_info": {
   "codemirror_mode": {
    "name": "ipython",
    "version": 3
   },
   "file_extension": ".py",
   "mimetype": "text/x-python",
   "name": "python",
   "nbconvert_exporter": "python",
   "pygments_lexer": "ipython3",
   "version": "3.10.9"
  }
 },
 "nbformat": 4,
 "nbformat_minor": 5
}
